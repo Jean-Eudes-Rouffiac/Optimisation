{
 "cells": [
  {
   "cell_type": "code",
   "execution_count": 56,
   "metadata": {},
   "outputs": [
    {
     "name": "stdout",
     "output_type": "stream",
     "text": [
      "Le graphe est biparti, ses deux parties sont : \n",
      "{'C', 'E', 'A'}\n",
      "{'B', 'D'}\n"
     ]
    }
   ],
   "source": [
    "import sys\n",
    "\n",
    "\n",
    "graph = {\n",
    "    'A' : ['B'],\n",
    "    'B' : ['A', 'E', 'C'],\n",
    "    'C' : ['B', 'D'],\n",
    "    'D' : ['C', 'E'],\n",
    "    'E' : ['B', 'D']\n",
    "\n",
    "}\n",
    "\n",
    "graph2 = {\n",
    "    'A' : ['B', 'F'],\n",
    "    'B' : ['A', 'C', 'G'],\n",
    "    'C' : ['B', 'E'],\n",
    "    'D' : ['E'],\n",
    "    'E' : ['C', 'D', 'G'],\n",
    "    'F' : ['A', 'G'],\n",
    "    'G' : ['B', 'E', 'F']\n",
    "\n",
    "}\n",
    "\n",
    "graph3 = {\n",
    "    'A' : ['B'],\n",
    "    'B' : ['A', 'E', 'C', 'D'],\n",
    "    'C' : ['B', 'D'],\n",
    "    'D' : ['B', 'C', 'E'],\n",
    "    'E' : ['B', 'D']\n",
    "\n",
    "}\n",
    "\n",
    "def est_biparti(list_succ, sommet, est_visite = set() , rouge = set() , bleu = set()):\n",
    "    if sommet in bleu:   \n",
    "       sys.exit(\"Pas bi parti\")\n",
    "\n",
    "    if sommet not in est_visite:  \n",
    "        est_visite.add(sommet)              \n",
    "        rouge.add(sommet)                 \n",
    "        for n in list_succ[sommet]:\n",
    "            est_biparti(list_succ, n, est_visite, bleu, rouge) \n",
    "\n",
    "    return (True, rouge, bleu)\n",
    "\n",
    "result, rouge, bleu = est_biparti(graph,'A')\n",
    "\n",
    "if result:\n",
    "    print(\"Le graphe est biparti, ses deux parties sont : \")\n",
    "    print(rouge)\n",
    "    print(bleu)\n",
    "\n",
    "                                           "
   ]
  },
  {
   "cell_type": "code",
   "execution_count": null,
   "metadata": {},
   "outputs": [],
   "source": []
  },
  {
   "cell_type": "code",
   "execution_count": null,
   "metadata": {},
   "outputs": [],
   "source": []
  },
  {
   "cell_type": "code",
   "execution_count": null,
   "metadata": {},
   "outputs": [],
   "source": []
  },
  {
   "cell_type": "code",
   "execution_count": null,
   "metadata": {},
   "outputs": [],
   "source": []
  },
  {
   "cell_type": "code",
   "execution_count": null,
   "metadata": {},
   "outputs": [],
   "source": []
  },
  {
   "cell_type": "code",
   "execution_count": null,
   "metadata": {
    "collapsed": true
   },
   "outputs": [],
   "source": []
  }
 ],
 "metadata": {
  "kernelspec": {
   "display_name": "Python 3",
   "language": "python",
   "name": "python3"
  },
  "language_info": {
   "codemirror_mode": {
    "name": "ipython",
    "version": 3
   },
   "file_extension": ".py",
   "mimetype": "text/x-python",
   "name": "python",
   "nbconvert_exporter": "python",
   "pygments_lexer": "ipython3",
   "version": "3.6.7"
  }
 },
 "nbformat": 4,
 "nbformat_minor": 2
}
