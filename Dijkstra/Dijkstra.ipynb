{
 "cells": [
  {
   "cell_type": "code",
   "execution_count": 8,
   "metadata": {},
   "outputs": [
    {
     "name": "stdout",
     "output_type": "stream",
     "text": [
      "Temps d execution : 0.00017189979553222656 secondes ---\n",
      "{'b': 4, 'c': 5, 'd': 5, 'e': 8, 'f': 6, 'a': 0}\n",
      "{'b': 'a', 'c': 'a', 'd': 'b', 'e': 'c', 'f': 'd'}\n"
     ]
    }
   ],
   "source": [
    "import numpy as np\n",
    "import time\n",
    "\n",
    "def dijkstra(graph, point_depart):\n",
    "\n",
    "#Initialisation\n",
    "    pi, p = dict(), dict()\n",
    "    S, S_bar = [], []\n",
    "    \n",
    "    for sommet in graph:\n",
    "        if sommet != point_depart:\n",
    "            pi[sommet], p[sommet] = float('inf'), None\n",
    "            S_bar.append(sommet)\n",
    "            \n",
    "    for voisin in graph[point_depart]:\n",
    "        pi[voisin] = graph[point_depart][voisin]\n",
    "        p[voisin] = point_depart\n",
    "    \n",
    "    S.append(point_depart)\n",
    "        \n",
    "    pi[point_depart] = 0\n",
    "\n",
    "#Iteration\n",
    "    while (len(S_bar) != 0 ) :\n",
    "        \n",
    "        temp = [pi[j] for j in S_bar]\n",
    "        i = S_bar[np.argmin(temp)]\n",
    "                \n",
    "        S.append(i)\n",
    "        S_bar.remove(i)\n",
    "         \n",
    "        for voisin in graph[i] :\n",
    "            if voisin in S_bar : \n",
    "                if pi[voisin] > pi[i] + graph[i][voisin]:\n",
    "                    pi[voisin] = pi[i] + graph[i][voisin]\n",
    "                    p[voisin] = i\n",
    "    \n",
    " \n",
    "    return (pi, p)\n",
    "    \n",
    "\n",
    "\n",
    "graph1 = {\n",
    "    'a': {'b': 4, 'c':  5},\n",
    "    'b': {'c': 2, 'd':  1},\n",
    "    'c': {'e': 3},\n",
    "    'd': {'f':  1},\n",
    "    'e': {'d': 2, 'f': 2},\n",
    "    'f': {}\n",
    "}\n",
    "\n",
    "graph2 = {\n",
    "    'a': {'c': 1, 'e': 2},\n",
    "    'b': {},\n",
    "    'c': {'d': 2, 'f': 3},\n",
    "    'd': {'b': 3},\n",
    "    'e': {'d': 3, 'f': 4},\n",
    "    'f': {'b': 1}\n",
    "}\n",
    "\n",
    "graph3 = {\n",
    "    'a': {'b': 2, 'd': 4},\n",
    "    'b': {'d': 1, 'e': 4, 'f': 5},\n",
    "    'c': {'a': 3, 'g': 1},\n",
    "    'd': {'c': 2},\n",
    "    'e': {'h': 2},\n",
    "    'f': {'g': 3},\n",
    "    'g': {'d': 2, 'h': 2},\n",
    "    'h': {'f': 3}\n",
    "}\n",
    "    \n",
    "graph4 = {\n",
    "    'a': {'b': 4, 'c': 5},\n",
    "    'b': {'d': 1, 'e': 7},\n",
    "    'c': {'e': 6},\n",
    "    'd': {'f': 8, 'g': 6},\n",
    "    'e': {'f': 2, 'g': 6},\n",
    "    'f': {'h': 1},\n",
    "    'g': {'h': 2},\n",
    "    'h': {}\n",
    "}\n",
    "   \n",
    "start_time = time.time()   \n",
    "pi, p = dijkstra(graph1, point_depart='a')\n",
    "print(\"Temps d execution : %s secondes ---\" % (time.time() - start_time))\n",
    "\n",
    "print (pi)\n",
    "print(p)\n",
    "\n"
   ]
  },
  {
   "cell_type": "code",
   "execution_count": null,
   "metadata": {
    "collapsed": true
   },
   "outputs": [],
   "source": []
  },
  {
   "cell_type": "code",
   "execution_count": null,
   "metadata": {
    "collapsed": true
   },
   "outputs": [],
   "source": []
  }
 ],
 "metadata": {
  "kernelspec": {
   "display_name": "Python 3",
   "language": "python",
   "name": "python3"
  },
  "language_info": {
   "codemirror_mode": {
    "name": "ipython",
    "version": 3
   },
   "file_extension": ".py",
   "mimetype": "text/x-python",
   "name": "python",
   "nbconvert_exporter": "python",
   "pygments_lexer": "ipython3",
   "version": "3.6.7"
  }
 },
 "nbformat": 4,
 "nbformat_minor": 2
}
