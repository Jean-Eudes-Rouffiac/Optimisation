{
 "cells": [
  {
   "cell_type": "code",
   "execution_count": 2,
   "metadata": {},
   "outputs": [
    {
     "name": "stdout",
     "output_type": "stream",
     "text": [
      "{'a': 0, 'b': 4, 'c': 5, 'd': 5, 'e': 8, 'f': 6}\n",
      "{'a': None, 'b': 'a', 'c': 'a', 'd': 'b', 'e': 'c', 'f': 'd'}\n"
     ]
    }
   ],
   "source": [
    "import sys \n",
    "\n",
    "def ford(graph, point_depart):\n",
    "\n",
    "    pi, p = dict(), dict()\n",
    "\n",
    "    for sommet in graph:\n",
    "        pi[sommet] = float('inf')\n",
    "        p[sommet] = None\n",
    "        \n",
    "    pi[point_depart] = 0\n",
    "    k = 0\n",
    "    b = True\n",
    "\n",
    "    \n",
    "    while (b and k < len(graph)) :\n",
    "        b = False\n",
    "        for sommet in graph : \n",
    "            for voisin in graph[sommet]:\n",
    "                if pi[voisin] > pi[sommet] + graph[sommet][voisin]:\n",
    "                    pi[voisin] = pi[sommet] + graph[sommet][voisin]\n",
    "                    p[voisin] = sommet\n",
    "                    b = True\n",
    "        k = k + 1\n",
    "    \n",
    "    for sommet in graph:\n",
    "        for voisin in graph[sommet]:\n",
    "            if (pi[voisin] > pi[sommet] + graph[sommet][voisin]):\n",
    "                sys.exit(\"Circuit absorbant\")\n",
    "    \n",
    " \n",
    "    return (pi, p)\n",
    "    \n",
    "\n",
    "\n",
    "graph1 = {\n",
    "    'a': {'b': 4, 'c':  5},\n",
    "    'b': {'c': 2, 'd':  1},\n",
    "    'c': {'e': 3},\n",
    "    'd': {'f':  1},\n",
    "    'e': {'d': 2, 'f': 2},\n",
    "    'f': {}\n",
    "}\n",
    "\n",
    "graph2 = {\n",
    "    'a': {'b': 4, 'c': 5},\n",
    "    'b': {'c': -2},\n",
    "    'c': {'e': -3},\n",
    "    'd': {'b': 1, 'f':  1},\n",
    "    'e': {'d': 2, 'f': 2},\n",
    "    'f': {}\n",
    "}\n",
    "\n",
    "graph3 = {\n",
    "    'a': {'b': 2, 'd': 4},\n",
    "    'b': {'d': -1, 'e': 4, 'f': 5},\n",
    "    'c': {'a': -3, 'g': 1},\n",
    "    'd': {'c': 2},\n",
    "    'e': {'h': 2},\n",
    "    'f': {'g': 3},\n",
    "    'g': {'d': -2, 'h': 2},\n",
    "    'h': {'f': -3}\n",
    "}\n",
    "    \n",
    "pi, p = ford(graph1, point_depart='a')\n",
    "\n",
    "print (pi)\n",
    "print(p)"
   ]
  },
  {
   "cell_type": "code",
   "execution_count": null,
   "metadata": {
    "collapsed": true
   },
   "outputs": [],
   "source": []
  },
  {
   "cell_type": "code",
   "execution_count": null,
   "metadata": {
    "collapsed": true
   },
   "outputs": [],
   "source": []
  },
  {
   "cell_type": "code",
   "execution_count": null,
   "metadata": {
    "collapsed": true
   },
   "outputs": [],
   "source": []
  }
 ],
 "metadata": {
  "kernelspec": {
   "display_name": "Python 3",
   "language": "python",
   "name": "python3"
  },
  "language_info": {
   "codemirror_mode": {
    "name": "ipython",
    "version": 3
   },
   "file_extension": ".py",
   "mimetype": "text/x-python",
   "name": "python",
   "nbconvert_exporter": "python",
   "pygments_lexer": "ipython3",
   "version": "3.6.7"
  }
 },
 "nbformat": 4,
 "nbformat_minor": 2
}
